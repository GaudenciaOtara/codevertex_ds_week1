{
 "cells": [
  {
   "cell_type": "markdown",
   "metadata": {
    "id": "56wIrIHaAD6t"
   },
   "source": [
    "<font color=\"green\">*To start working on this notebook, or any other notebook that we will use in this course, we will need to save our own copy of it. We can do this by clicking File > Save a Copy in Drive. We will then be able to make edits to our own copy of this notebook.*</font>"
   ]
  },
  {
   "cell_type": "markdown",
   "metadata": {
    "id": "LVp8C4oB0yzk"
   },
   "source": [
    "# Python Programming: Conditional (If) Statements"
   ]
  },
  {
   "cell_type": "markdown",
   "metadata": {
    "id": "z4xtgHIJ1mui"
   },
   "source": [
    "## 1.0 Overview"
   ]
  },
  {
   "cell_type": "markdown",
   "metadata": {
    "id": "fS6UBkKd2DMo"
   },
   "source": [
    "So as to write useful python programs, we almost always need the ability to check conditions and apply a certain operation accordingly. Conditional statements like the if statement provide us with that ability."
   ]
  },
  {
   "cell_type": "markdown",
   "metadata": {
    "id": "lsZdOcCiAQdJ"
   },
   "source": [
    "## 1.1 If"
   ]
  },
  {
   "cell_type": "code",
   "execution_count": 47,
   "metadata": {
    "id": "-6728JH-2Esz"
   },
   "outputs": [
    {
     "name": "stdout",
     "output_type": "stream",
     "text": [
      "y is less than x\n"
     ]
    }
   ],
   "source": [
    "# Example 1\n",
    "# We can write an if statement by using the if keyword as shown:\n",
    "#\n",
    "x = 200\n",
    "y = 100\n",
    "if y < x:\n",
    "  print(\"y is less than x\")"
   ]
  },
  {
   "cell_type": "code",
   "execution_count": 48,
   "metadata": {
    "id": "ueDGWWPm2FHW"
   },
   "outputs": [],
   "source": [
    "# Example 2\n",
    "# Below is another example of an if statement\n",
    "#\n",
    "x = 1\n",
    "y = 7\n",
    "\n",
    "# let's find out if x is greater than 7\n",
    "if x > y: \n",
    "  print('yes')"
   ]
  },
  {
   "cell_type": "markdown",
   "metadata": {
    "id": "MB_zJqo-41tc"
   },
   "source": [
    "### <font color=\"green\">1.1 Challenges</font>"
   ]
  },
  {
   "cell_type": "code",
   "execution_count": 50,
   "metadata": {
    "id": "DD_AaNYQFjQw"
   },
   "outputs": [],
   "source": [
    "# Challenge 1\n",
    "# In our first challenge, we will find out if y is less than 7 \n",
    "# If so, we will print out yes.\n",
    "#\n",
    "\n",
    "# We first declare and assign 1 to variable x and 7 to variable y\n",
    "x = 1\n",
    "y = 7\n",
    "\n",
    "if y<7:\n",
    "    print(\"yes\")\n",
    "  "
   ]
  },
  {
   "cell_type": "code",
   "execution_count": 51,
   "metadata": {
    "id": "56hXs9yRFjFb"
   },
   "outputs": [
    {
     "name": "stdout",
     "output_type": "stream",
     "text": [
      "yes\n"
     ]
    }
   ],
   "source": [
    "# Challenge 2\n",
    "# Let's find out if x == true. If so, we will print out yes.\n",
    "# We won't need to declare any variable in this challenge.\n",
    "#\n",
    "if x==True:\n",
    "    print(\"yes\")\n",
    "    "
   ]
  },
  {
   "cell_type": "code",
   "execution_count": 52,
   "metadata": {
    "id": "b6R-wr4xFp5e"
   },
   "outputs": [],
   "source": [
    "# Challenge 3\n",
    "# Let's find out if y is true. If so, we will print out yes. \n",
    "# We won't need to declare any variable in this challenge as well\n",
    "#\n",
    "if y== True:\n",
    "    print(\"yes\")\n"
   ]
  },
  {
   "cell_type": "markdown",
   "metadata": {
    "id": "e8-T8Xw-1qYp"
   },
   "source": [
    "## 1.2 Elif"
   ]
  },
  {
   "cell_type": "code",
   "execution_count": 53,
   "metadata": {
    "id": "ERoyYLdk2MLL"
   },
   "outputs": [
    {
     "name": "stdout",
     "output_type": "stream",
     "text": [
      "x and y are equal\n"
     ]
    }
   ],
   "source": [
    "# Example 1\n",
    "# The elif keyword is a keyword that will try another condition \n",
    "# if the previous condition was not true.\n",
    "# The example below shows how the elif keyword can be used.\n",
    "# \n",
    "x = 33\n",
    "y = 33\n",
    "\n",
    "if y < x:\n",
    "  print(\"y is less than x\")\n",
    "elif x == y:\n",
    "  print(\"x and y are equal\")"
   ]
  },
  {
   "cell_type": "code",
   "execution_count": 54,
   "metadata": {
    "id": "GT8Q7jdf2Mze"
   },
   "outputs": [
    {
     "name": "stdout",
     "output_type": "stream",
     "text": [
      "You chose 'a'.\n"
     ]
    }
   ],
   "source": [
    "# Example 2\n",
    "# This is another example of how the elif keyword can be used.\n",
    "#\n",
    "choice = 'a'\n",
    "if choice == 'a':\n",
    "    print(\"You chose 'a'.\")\n",
    "elif choice == 'b':\n",
    "    print(\"You chose 'b'.\")\n",
    "elif choice == 'c':\n",
    "    print(\"You chose 'c'.\")"
   ]
  },
  {
   "cell_type": "markdown",
   "metadata": {
    "id": "Rkw7o23I2N3w"
   },
   "source": [
    "### <font color=\"green\">1.2 Challenges </font>"
   ]
  },
  {
   "cell_type": "code",
   "execution_count": 57,
   "metadata": {
    "id": "4yVpcy0f2RBM"
   },
   "outputs": [
    {
     "name": "stdout",
     "output_type": "stream",
     "text": [
      "Enter an integer: 9\n",
      "The number is odd\n"
     ]
    }
   ],
   "source": [
    "# Challenge 1\n",
    "# Let's now write a program that reads an integer \n",
    "# from a user then displays a message indicating \n",
    "# whether the integer is even or odd.\n",
    "#\n",
    "\n",
    "user_integer=int(input(\"Enter an integer: \"))\n",
    "\n",
    "if user_integer%2==0:\n",
    "    print(\"The number is even\")\n",
    "else:\n",
    "    print(\"The number is odd\")"
   ]
  },
  {
   "cell_type": "code",
   "execution_count": 58,
   "metadata": {
    "id": "LN1DVYd52R2_"
   },
   "outputs": [
    {
     "name": "stdout",
     "output_type": "stream",
     "text": [
      "Enter a letter: q\n",
      "The letter is a constant\n"
     ]
    }
   ],
   "source": [
    "# Challenge 2: \n",
    "# We now write a program that reads a input from a user. \n",
    "# If the user enters a, e, i, o or u then our program should \n",
    "# display a message indicating that the entered letter is a vowel. \n",
    "# If our user enters y then our program should display a message \n",
    "# indicating that sometimes y is a vowel, and sometimes y is a consonant. \n",
    "# Otherwise our program should display a message indicating that the\n",
    "# letter is a consonant.\n",
    "#\n",
    "\n",
    "user_input=input(\"Enter a letter: \")\n",
    "\n",
    "if user_input=='a' or  user_input=='e'or  user_input=='i' or  user_input=='o' or  user_input=='u':\n",
    "    print(\"The letter is a vowel\")\n",
    "elif user_input=='y':\n",
    "    print(\"Sometimes y is a vowel and sometimes y is a constant\")\n",
    "    \n",
    "else:\n",
    "    print(\"The letter is a constant\")"
   ]
  },
  {
   "cell_type": "code",
   "execution_count": 59,
   "metadata": {
    "id": "WyGQSsN22Rkg"
   },
   "outputs": [
    {
     "name": "stdout",
     "output_type": "stream",
     "text": [
      "Enter a number: 100\n",
      "10000  big\n"
     ]
    }
   ],
   "source": [
    "# Challenge 3\n",
    "# Let's now also write another program that asks for a number and computes the\n",
    "# square of that number. If the square is 100 or greater, print the squared value\n",
    "# and the word 'big'. Otherwise if the square is 50 or greater, print the\n",
    "# squared value and the word 'medium'. Otherwise just print 'too small to bother with'.\n",
    "# Hint: To compute squared, use x*x or x**2\n",
    "#\n",
    "\n",
    "number=int(input(\"Enter a number: \"))\n",
    "num_square=number**2\n",
    "\n",
    "if num_square>=100:\n",
    "    print(num_square ,\" big\")\n",
    "\n",
    "elif num_square>=50:\n",
    "    print(num_square, \" medium\")\n",
    "\n",
    "else:\n",
    "    print(\"Too small to bother with\")"
   ]
  },
  {
   "cell_type": "markdown",
   "metadata": {
    "id": "bOZph-F21tuy"
   },
   "source": [
    "## 1.3 Else"
   ]
  },
  {
   "cell_type": "code",
   "execution_count": 60,
   "metadata": {
    "id": "F8nzCtX82v-A"
   },
   "outputs": [
    {
     "name": "stdout",
     "output_type": "stream",
     "text": [
      "x is greater than y\n"
     ]
    }
   ],
   "source": [
    "# Example 1\n",
    "# The else keyword will catch anything else which isn't caught by the preceding conditions.\n",
    "# A use case of else keyword is in the following example. \n",
    "#\n",
    "\n",
    "# Declaring our variables\n",
    "x = 134\n",
    "y = 33\n",
    "\n",
    "if y > x:\n",
    "  print(\"y is greater than x\")\n",
    "elif x == y:\n",
    "  print(\"x and y are equal\")\n",
    "else:\n",
    "  print(\"x is greater than y\")"
   ]
  },
  {
   "cell_type": "code",
   "execution_count": 61,
   "metadata": {
    "id": "Zk9b5LJF2wcB"
   },
   "outputs": [
    {
     "name": "stdout",
     "output_type": "stream",
     "text": [
      "What is the temperature outside? 20\n",
      "No need for a sweater\n"
     ]
    }
   ],
   "source": [
    "# Example 2\n",
    "# The else keyword can also be used without elif as shown\n",
    "#\n",
    "\n",
    "# Prompting the user for an input\n",
    "temp_outside = float(input('What is the temperature outside? '))\n",
    "\n",
    "if temp_outside > 12:\n",
    "  print('No need for a sweater')\n",
    "else:\n",
    "  print('You need an sweater') "
   ]
  },
  {
   "cell_type": "code",
   "execution_count": 62,
   "metadata": {
    "id": "HaGipQqmvPXE"
   },
   "outputs": [
    {
     "name": "stdout",
     "output_type": "stream",
     "text": [
      "no condition matched\n",
      "so x is 7 or less\n"
     ]
    }
   ],
   "source": [
    "# Example 3\n",
    "# We should also note that indentation is significantly important as shown\n",
    "# \n",
    "\n",
    "# Declaring our varioable\n",
    "x = 7\n",
    "\n",
    "if x > 12:\n",
    "    print ('x is greater than 12')\n",
    "    if x >= 17:\n",
    "        print ('x is also at least 17')\n",
    "elif x > 7:\n",
    "    print ('x is greater than 7 but not greater than 12')\n",
    "else:\n",
    "    print ('no condition matched')\n",
    "    print ('so x is 7 or less')"
   ]
  },
  {
   "cell_type": "markdown",
   "metadata": {
    "id": "X5rie0KH2xAp"
   },
   "source": [
    "### <font color=\"green\"> 1.3 Challenges </font>"
   ]
  },
  {
   "cell_type": "code",
   "execution_count": 102,
   "metadata": {
    "id": "z3TvASOt2zIt"
   },
   "outputs": [
    {
     "name": "stdout",
     "output_type": "stream",
     "text": [
      "Enter a day: 13\n",
      "Enter a month: December\n",
      "That is not a holiday!\n"
     ]
    }
   ],
   "source": [
    "# Challenge 1\n",
    "# Let's write a program that reads a month and day from the user. \n",
    "# If the month and day matches one of the holidays listed previously \n",
    "# then the program should display the Kenyan holiday’s name. \n",
    "# Otherwise our program should indicate that the entered month and day \n",
    "# do not correspond to a holiday. (You should use the else keyword)\n",
    "#\n",
    "\n",
    "date=input(\"Enter a day: \")\n",
    "month=input(\"Enter a month: \").capitalize()\n",
    "\n",
    "user_date=str(date+\" \"+month)\n",
    "\n",
    "    \n",
    "if user_date== '1 June':\n",
    "    print(\"Madaraka Day: \"+ user_date)\n",
    "elif user_date == '1 May':\n",
    "    print(\"Labour Day: \"+user_date)\n",
    "elif user_date =='12 December':\n",
    "    print(\"Jamhuri Day: \"+user_date)\n",
    "else:\n",
    "    print(\"That is not a holiday!\")"
   ]
  },
  {
   "cell_type": "code",
   "execution_count": 97,
   "metadata": {
    "id": "szGqVsAc2zft"
   },
   "outputs": [
    {
     "name": "stdout",
     "output_type": "stream",
     "text": [
      "Enter a wavelength: 643\n",
      "The wavelenght color is Red\n"
     ]
    }
   ],
   "source": [
    "# Challenge 2\n",
    "# Write a program that reads a wavelength from the user and reports its color. \n",
    "# Display an appropriate error message if the wavelength entered by the user \n",
    "# is outside of the visible spectrum. \n",
    "# (You can do external research on this challenge to determine the wavelength).\n",
    "# You should use the else keyword.\n",
    "#\n",
    "\n",
    "user_wavelength=int(input(\"Enter a wavelength: \"))\n",
    "\n",
    "if user_wavelength>=380 and user_wavelength<450:\n",
    "    print(\"The wavelength color is Violet\")\n",
    "elif user_wavelength>=450 and user_wavelength<495:\n",
    "    print(\"The wavelength color is Blue\")\n",
    "elif user_wavelength>=495 and user_wavelength<570:\n",
    "    print(\"The wavelength color is Green\")\n",
    "elif user_wavelength>=570 and user_wavelength<590:\n",
    "    print(\"The wavelength color is Yellow\")\n",
    "elif user_wavelength>=590 and user_wavelength<620:\n",
    "    print(\"The wavelenght color is Orange\")\n",
    "elif user_wavelength>=620 and user_wavelength<750:\n",
    "    print(\"The wavelenght color is Red\")\n",
    "else:\n",
    "    print(\"The color is outside the spectrum\")"
   ]
  },
  {
   "cell_type": "code",
   "execution_count": 100,
   "metadata": {
    "id": "1uHkXVZtuMPK"
   },
   "outputs": [
    {
     "name": "stdout",
     "output_type": "stream",
     "text": [
      "Enter the name of the Month: December\n",
      "31\n"
     ]
    }
   ],
   "source": [
    "# Challenge 3\n",
    "# Let's create a program that reads the name of a month from the user as a string, \n",
    "# then displays the number of days in that month. \n",
    "# The length of a month varies from 28 to 31 days. \n",
    "# The program needs to also display “28 or 29 days” for February \n",
    "# so that leap years are taken into account.\n",
    "# The program should use the else keyword.\n",
    "# \n",
    "\n",
    "month=input(\"Enter the name of the Month: \")\n",
    "\n",
    "if month=='January':\n",
    "    print(31)\n",
    "elif month== 'February':\n",
    "    print(\"28 or 29 days\")\n",
    "elif month == 'March':\n",
    "    print(31)\n",
    "elif month=='April':\n",
    "    print(30)\n",
    "elif month== 'May':\n",
    "    print(31)\n",
    "elif month== 'June':\n",
    "    print(30)\n",
    "elif month== 'July':\n",
    "    print(31)\n",
    "elif month== 'August':\n",
    "    print(31)\n",
    "elif month== 'September':\n",
    "    print(30)\n",
    "elif month== 'October':\n",
    "    print(31)\n",
    "elif month== 'November':\n",
    "    print(30)\n",
    "else:\n",
    "    print(31)"
   ]
  },
  {
   "cell_type": "markdown",
   "metadata": {
    "id": "qs4cjFqC1wm6"
   },
   "source": [
    "## 1.4 And"
   ]
  },
  {
   "cell_type": "code",
   "execution_count": 103,
   "metadata": {
    "id": "QhXLc8z-2120"
   },
   "outputs": [
    {
     "name": "stdout",
     "output_type": "stream",
     "text": [
      "Both conditions are True\n"
     ]
    }
   ],
   "source": [
    "# Example 1\n",
    "# We can also use the and keyword to combine conditional statements.\n",
    "#\n",
    "\n",
    "# Declaring our variables\n",
    "x = 11\n",
    "y = 10\n",
    "z = 12\n",
    "\n",
    "if x > y and z > x:\n",
    "  print(\"Both conditions are True\")"
   ]
  },
  {
   "cell_type": "code",
   "execution_count": 104,
   "metadata": {
    "id": "fRaI1Odr22lS"
   },
   "outputs": [
    {
     "name": "stdout",
     "output_type": "stream",
     "text": [
      "Your name is James, and you are also 24 years old.\n"
     ]
    }
   ],
   "source": [
    "# Example 2\n",
    "# \n",
    "\n",
    "# Declaring our variables\n",
    "name = \"James\"    \n",
    "age  = 24 \n",
    "\n",
    "if name == \"James\" and age == 24:\n",
    "  print(\"Your name is James, and you are also 24 years old.\")"
   ]
  },
  {
   "cell_type": "code",
   "execution_count": 106,
   "metadata": {
    "id": "VB5NlzM922Ux"
   },
   "outputs": [
    {
     "name": "stdout",
     "output_type": "stream",
     "text": [
      "You are not James, who is 24 years old.\n"
     ]
    }
   ],
   "source": [
    "# Example 3 \n",
    "#\n",
    "\n",
    "# Declaring our variables\n",
    "name = \"Gaudensia Otara\"      # Let's store our name in the name variable\n",
    "age  =  22        # Let's store our age in the age variable\n",
    "\n",
    "if name == \"James\" and age == 24:\n",
    "  print(\"Your name is James, and you are also 24 years old.\")\n",
    "else: \n",
    "  print(\"You are not James, who is 24 years old.\")"
   ]
  },
  {
   "cell_type": "markdown",
   "metadata": {
    "id": "UAFX7NgF23ab"
   },
   "source": [
    "### <font color=\"green\">1.4 Challenges</font>"
   ]
  },
  {
   "cell_type": "code",
   "execution_count": 111,
   "metadata": {
    "id": "g26Rql1z25Ff"
   },
   "outputs": [
    {
     "name": "stdout",
     "output_type": "stream",
     "text": [
      "Enter the Value of x: 1\n",
      "Enter the Value of y: 2\n",
      "Enter the Value of z: 2\n",
      "Your triangle is an isosceles triangle!\n"
     ]
    }
   ],
   "source": [
    "# Challenge 1:\n",
    "# Given the 3 sides of a triangle x, y and z, let's find out \n",
    "# whether the triangle is equilateral, isosceles or obtuse.\n",
    "# Note: An equilateral triagnle has all sides are equal, \n",
    "# isosceles means that two of the sides are equal but not the third one, \n",
    "# obtuse means all 3 are different. The user will be prompted \n",
    "# to provide the values of x, y and z\n",
    "# \n",
    "x=int(input(\"Enter the Value of x: \"))\n",
    "y=int(input(\"Enter the Value of y: \"))\n",
    "z=int(input(\"Enter the Value of z: \"))\n",
    "\n",
    "if x==y==z:\n",
    "    print(\"Your triangle is an equilateral triangle!\")\n",
    "elif x==y or x==z or z==y:\n",
    "    print(\"Your triangle is an isosceles triangle!\")\n",
    "else:\n",
    "    print(\"Your triangle is an obtuse triangle!\")"
   ]
  },
  {
   "cell_type": "markdown",
   "metadata": {
    "id": "GLyWRU4w11-M"
   },
   "source": [
    "## 1.5 Or"
   ]
  },
  {
   "cell_type": "code",
   "execution_count": 112,
   "metadata": {
    "id": "jIyeUjAq3D2n"
   },
   "outputs": [
    {
     "name": "stdout",
     "output_type": "stream",
     "text": [
      "At least one of the conditions is True\n"
     ]
    }
   ],
   "source": [
    "# Example 1\n",
    "# We can also use the if keyword to combine conditional statements. \n",
    "#\n",
    "\n",
    "# Declaring our variables\n",
    "x = 10\n",
    "y = 11\n",
    "z = 9\n",
    "\n",
    "if x > y or x > z:\n",
    "  print(\"At least one of the conditions is True\")"
   ]
  },
  {
   "cell_type": "code",
   "execution_count": 113,
   "metadata": {
    "id": "bq7T-If83FVy"
   },
   "outputs": [
    {
     "name": "stdout",
     "output_type": "stream",
     "text": [
      "Enter value of x = 3\n",
      "Enter value of y = 5\n",
      "x >= 15 or y <= 25 so if statement is True\n"
     ]
    }
   ],
   "source": [
    "# Example 2\n",
    "#\n",
    "\n",
    "# Declaring our variables\n",
    "x = int(input(\"Enter value of x = \"))\n",
    "y = int(input(\"Enter value of y = \"))\n",
    " \n",
    "if (x >= 15) or (y <= 25):\n",
    "  print(\"x >= 15 or y <= 25 so if statement is True\")\n",
    "else:\n",
    "  print(\"Value of x < 15 and y > 25 so if statement is False!\")"
   ]
  },
  {
   "cell_type": "code",
   "execution_count": 114,
   "metadata": {
    "id": "FN29xkMq3FnA"
   },
   "outputs": [
    {
     "name": "stdout",
     "output_type": "stream",
     "text": [
      "If statement is True\n"
     ]
    }
   ],
   "source": [
    "# Example 3\n",
    "#\n",
    "\n",
    "# Declaring our variables\n",
    "w = 10\n",
    "x = 15\n",
    "y = 20\n",
    "z = 25\n",
    " \n",
    "if (w == 10 or x == 15) and (y == 16 or z == 25):\n",
    "  print(\"If statement is True\")\n",
    "else:\n",
    "  print(\"False\")"
   ]
  },
  {
   "cell_type": "markdown",
   "metadata": {
    "id": "TNIQRbN-3GNh"
   },
   "source": [
    "### <font color=\"green\">1.5 Challenges</font>"
   ]
  },
  {
   "cell_type": "code",
   "execution_count": 123,
   "metadata": {
    "id": "Vhx4FY_P3J93"
   },
   "outputs": [
    {
     "name": "stdout",
     "output_type": "stream",
     "text": [
      "Enter the Value of x: 1\n",
      "Enter the Value of y: 2\n",
      "Enter the Value of z: 4\n",
      "Your triangle is an obtuse triangle!\n"
     ]
    }
   ],
   "source": [
    "# Challenge 1\n",
    "# Using the Or operator, let's create a function \n",
    "# that determines the type of a triangle \n",
    "# based on the lengths of its sides. A user will be inputting\n",
    "# the sides of the triange\n",
    "#\n",
    "x=int(input(\"Enter the Value of x: \"))\n",
    "y=int(input(\"Enter the Value of y: \"))\n",
    "z=int(input(\"Enter the Value of z: \"))\n",
    "\n",
    "def triangle_type(x,y,z):\n",
    "    \n",
    "    if x==y==z:\n",
    "        print(\"Your triangle is an equilateral triangle!\")\n",
    "    elif x==y or x==z or z==y:\n",
    "        print(\"Your triangle is an isosceles triangle!\")\n",
    "    else:\n",
    "        print(\"Your triangle is an obtuse triangle!\")\n",
    "        \n",
    "triangle_type(x,y,z)"
   ]
  },
  {
   "cell_type": "code",
   "execution_count": 127,
   "metadata": {
    "id": "VVh8NAu83KW6"
   },
   "outputs": [
    {
     "name": "stdout",
     "output_type": "stream",
     "text": [
      "Enter a number: 10\n",
      "The number is not greater than 30 and 100!\n"
     ]
    }
   ],
   "source": [
    "# Challenge 2\n",
    "# Using the Or operator, let's create a function \n",
    "# that checks whether a number given \n",
    "# by a user is greater than 30 or greater than 100. \n",
    "#\n",
    "\n",
    "user_num=int(input(\"Enter a number: \"))\n",
    "\n",
    "def checking_number(user_num):\n",
    "    if user_num>30 or user_num>100:\n",
    "        print(\"The number  is greater than 100 and greater than 30!\")\n",
    "    else:\n",
    "        print(\"The number is not greater than 30 and 100!\")\n",
    "\n",
    "checking_number(user_num)"
   ]
  },
  {
   "cell_type": "code",
   "execution_count": 119,
   "metadata": {
    "id": "5sMQVqPQtUaO"
   },
   "outputs": [
    {
     "name": "stdout",
     "output_type": "stream",
     "text": [
      "Enter a letter: t\n",
      "The letter is a consonant\n"
     ]
    }
   ],
   "source": [
    "# Challenge 3\n",
    "# Let's write a program that prompts a letter from a user. \n",
    "# When any of the letters a, e, i, o or u are entered, \n",
    "# then your program should display a message indicating that the entered letter is a vowel. \n",
    "# If the user enters y then your program should display a message \n",
    "# indicating that sometimes y is a vowel, and sometimes y is a consonant. \n",
    "# Else the program should display a message indicating that the letter is a consonant.\n",
    "#\n",
    "\n",
    "user_letter=input(\"Enter a letter: \")\n",
    "\n",
    "if user_letter=='a' or user_letter=='e' or user_letter=='i' or user_letter=='o' or user_letter=='u':\n",
    "    print(\"The letter is a vowel\")\n",
    "elif user_letter=='y':\n",
    "    print(\"Sometimes y is a vowel and sometimes y is constant\")\n",
    "else:\n",
    "    print(\"The letter is a consonant\")"
   ]
  },
  {
   "cell_type": "code",
   "execution_count": null,
   "metadata": {},
   "outputs": [],
   "source": []
  }
 ],
 "metadata": {
  "colab": {
   "collapsed_sections": [
    "z4xtgHIJ1mui",
    "lsZdOcCiAQdJ",
    "MB_zJqo-41tc",
    "e8-T8Xw-1qYp",
    "Rkw7o23I2N3w",
    "bOZph-F21tuy",
    "qs4cjFqC1wm6",
    "UAFX7NgF23ab",
    "GLyWRU4w11-M"
   ],
   "name": "Python Programming: Conditional (If) Statements",
   "provenance": [],
   "toc_visible": true
  },
  "kernelspec": {
   "display_name": "Python 3 (ipykernel)",
   "language": "python",
   "name": "python3"
  },
  "language_info": {
   "codemirror_mode": {
    "name": "ipython",
    "version": 3
   },
   "file_extension": ".py",
   "mimetype": "text/x-python",
   "name": "python",
   "nbconvert_exporter": "python",
   "pygments_lexer": "ipython3",
   "version": "3.7.16"
  }
 },
 "nbformat": 4,
 "nbformat_minor": 1
}
